{
 "cells": [
  {
   "cell_type": "code",
   "execution_count": 17,
   "metadata": {},
   "outputs": [],
   "source": [
    "import os\n",
    "import numpy as np\n",
    "import torch as T\n",
    "import torch.nn as nn\n",
    "import torch.optim as optim\n",
    "from torch.distributions.categorical import Categorical\n",
    "from gym_match3.envs.match3_env import Match3Env\n",
    "import wandb\n",
    "import cProfile, pstats\n",
    "from PPO import *\n",
    "import cProfile, pstats\n",
    "from sklearn.decomposition import PCA\n",
    "from sklearn.preprocessing import StandardScaler\n"
   ]
  },
  {
   "cell_type": "code",
   "execution_count": 18,
   "metadata": {},
   "outputs": [],
   "source": [
    "states = []\n",
    "env = Match3Env()\n",
    "for i in range(2000):\n",
    "    obs, infos = env.reset()\n",
    "    states.append(obs.flatten())"
   ]
  },
  {
   "cell_type": "code",
   "execution_count": 19,
   "metadata": {},
   "outputs": [
    {
     "name": "stdout",
     "output_type": "stream",
     "text": [
      "(2000, 2340)\n"
     ]
    }
   ],
   "source": [
    "# state is now a list of 100 flattened tensors\n",
    "matrix = np.stack(states)\n",
    "scaler = StandardScaler()\n",
    "standard_matrix = scaler.fit_transform(matrix)\n",
    "print(standard_matrix.shape)"
   ]
  },
  {
   "cell_type": "code",
   "execution_count": 43,
   "metadata": {},
   "outputs": [
    {
     "name": "stdout",
     "output_type": "stream",
     "text": [
      "(2000, 900)\n",
      "0.9846171035460429\n"
     ]
    }
   ],
   "source": [
    "pca = PCA(n_components=(900))\n",
    "pca_values = pca.fit_transform(standard_matrix)\n",
    "print(pca_values.shape)\n",
    "principle_components = pca.components_\n",
    "explained_variance = pca.explained_variance_\n",
    "explained_variance_ratio = pca.explained_variance_ratio_\n",
    "# print(explained_variance)\n",
    "print(sum(explained_variance_ratio))\n"
   ]
  },
  {
   "cell_type": "code",
   "execution_count": 44,
   "metadata": {},
   "outputs": [
    {
     "name": "stdout",
     "output_type": "stream",
     "text": [
      "0.9846171035460429\n"
     ]
    }
   ],
   "source": [
    "principle_components = pca.components_\n",
    "explained_variance = pca.explained_variance_\n",
    "explained_variance_ratio = pca.explained_variance_ratio_\n",
    "# print(explained_variance)\n",
    "print(sum(explained_variance_ratio))\n",
    "\n"
   ]
  },
  {
   "cell_type": "code",
   "execution_count": 23,
   "metadata": {},
   "outputs": [
    {
     "name": "stdout",
     "output_type": "stream",
     "text": [
      "[[-2.1506280e-03 -6.5649155e-04 -3.7054940e-10 ... -2.1932158e-03\n",
      "  -1.5286782e-03 -1.4347354e-03]\n",
      " [ 7.9498738e-03  1.2233297e-03  1.3010067e-08 ...  5.8362691e-04\n",
      "   2.1994008e-04  1.0986076e-03]\n",
      " [-4.4433484e-03  7.6550321e-04 -1.7338298e-08 ... -3.5715662e-03\n",
      "  -2.2440886e-03 -2.7250515e-03]\n",
      " ...\n",
      " [ 5.9593129e-03 -5.2099433e-03 -5.8834974e-07 ...  3.4466712e-03\n",
      "  -3.8599276e-03 -1.8637417e-03]\n",
      " [ 7.2544189e-03 -5.5570353e-04  2.0414078e-07 ... -3.1877412e-03\n",
      "  -7.1324123e-04 -4.2344659e-04]\n",
      " [-6.0053463e-03 -1.0209423e-02 -5.1794086e-07 ...  2.8016414e-03\n",
      "  -4.4546966e-04  1.7519527e-03]]\n"
     ]
    }
   ],
   "source": [
    "print(principle_components)"
   ]
  },
  {
   "cell_type": "code",
   "execution_count": 24,
   "metadata": {},
   "outputs": [],
   "source": [
    "new_state = states[0]\n",
    "projected_data = np.dot(pca.components_, new_state.flatten())"
   ]
  },
  {
   "cell_type": "code",
   "execution_count": 25,
   "metadata": {},
   "outputs": [
    {
     "ename": "ValueError",
     "evalue": "cannot reshape array of size 360 into shape (10,10,9)",
     "output_type": "error",
     "traceback": [
      "\u001b[1;31m---------------------------------------------------------------------------\u001b[0m",
      "\u001b[1;31mValueError\u001b[0m                                Traceback (most recent call last)",
      "Cell \u001b[1;32mIn[25], line 1\u001b[0m\n\u001b[1;32m----> 1\u001b[0m reshaped_projected_data \u001b[38;5;241m=\u001b[39m \u001b[43mprojected_data\u001b[49m\u001b[38;5;241;43m.\u001b[39;49m\u001b[43mreshape\u001b[49m\u001b[43m(\u001b[49m\u001b[38;5;241;43m10\u001b[39;49m\u001b[43m,\u001b[49m\u001b[38;5;241;43m10\u001b[39;49m\u001b[43m,\u001b[49m\u001b[38;5;241;43m9\u001b[39;49m\u001b[43m)\u001b[49m\n\u001b[0;32m      2\u001b[0m \u001b[38;5;28mprint\u001b[39m(reshaped_projected_data)\n",
      "\u001b[1;31mValueError\u001b[0m: cannot reshape array of size 360 into shape (10,10,9)"
     ]
    }
   ],
   "source": [
    "reshaped_projected_data = projected_data.reshape(10,10,9)\n",
    "print(reshaped_projected_data)"
   ]
  },
  {
   "cell_type": "code",
   "execution_count": null,
   "metadata": {},
   "outputs": [],
   "source": []
  }
 ],
 "metadata": {
  "kernelspec": {
   "display_name": "snakegame",
   "language": "python",
   "name": "python3"
  },
  "language_info": {
   "codemirror_mode": {
    "name": "ipython",
    "version": 3
   },
   "file_extension": ".py",
   "mimetype": "text/x-python",
   "name": "python",
   "nbconvert_exporter": "python",
   "pygments_lexer": "ipython3",
   "version": "3.12.4"
  }
 },
 "nbformat": 4,
 "nbformat_minor": 2
}
